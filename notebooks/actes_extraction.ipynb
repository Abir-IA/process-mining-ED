{
 "cells": [
  {
   "cell_type": "code",
   "execution_count": 3,
   "id": "fb4cb9aa-55f7-4d15-b908-f82118de24da",
   "metadata": {},
   "outputs": [],
   "source": [
    "import pandas as pd\n",
    "import re\n"
   ]
  },
  {
   "cell_type": "code",
   "execution_count": 5,
   "id": "8ff783b7-1fe9-43b5-b58e-6bce6607ecb5",
   "metadata": {},
   "outputs": [],
   "source": [
    "# Charger le fichier Excel\n",
    "fichier = \"../data/2023_01_01_ExportRechLibre.xlsx\"  # Remplace par ton chemin exact si besoin\n",
    "df = pd.read_excel(fichier)"
   ]
  },
  {
   "cell_type": "code",
   "execution_count": 7,
   "id": "e8bb00c1-3dc7-49b4-9cae-f2b89d083443",
   "metadata": {},
   "outputs": [],
   "source": [
    "# Ne garder que les colonnes utiles pour ce traitement\n",
    "df_actes = df[['Identifiant passage unique', 'Actes']].dropna(subset=['Actes'])\n"
   ]
  },
  {
   "cell_type": "code",
   "execution_count": 8,
   "id": "bdfca236-905e-44e4-bf75-ced2f4170c88",
   "metadata": {},
   "outputs": [],
   "source": [
    "# Initialiser un tableau pour les événements extraits\n",
    "event_log = []"
   ]
  },
  {
   "cell_type": "code",
   "execution_count": 9,
   "id": "7ce82df0-4295-4dba-a045-063aa9f7620e",
   "metadata": {},
   "outputs": [],
   "source": [
    "# Regex pour extraire les couples (activité, timestamp)\n",
    "pattern = r\"(.*?)(\\(\\d{2}/\\d{2}/\\d{4} \\d{2}:\\d{2}\\))\""
   ]
  },
  {
   "cell_type": "code",
   "execution_count": 10,
   "id": "dbef52e3-b0b8-4349-bc32-4d9b01231b05",
   "metadata": {},
   "outputs": [],
   "source": [
    "# Boucle ligne par ligne\n",
    "for _, row in df_actes.iterrows():\n",
    "    case_id = row['Identifiant passage unique']\n",
    "    texte = row['Actes']"
   ]
  },
  {
   "cell_type": "code",
   "execution_count": 12,
   "id": "9b363c2e-e453-4155-a2cf-6df0e8f38a51",
   "metadata": {},
   "outputs": [],
   "source": [
    "# Boucle ligne par ligne\n",
    "for _, row in df_actes.iterrows():\n",
    "    case_id = row['Identifiant passage unique']\n",
    "    texte = row['Actes']\n",
    "\n",
    "    # Trouver tous les couples activité + date\n",
    "    matches = re.findall(pattern, texte)\n",
    "\n",
    "    for activity_raw, time_str in matches:\n",
    "        # Nettoyage de l'activité\n",
    "        activity = activity_raw.strip().lower()\n",
    "        activity = re.sub(r\"[^a-zA-Z0-9éèàçùêîôâ\\- ]\", \"\", activity)\n",
    "\n",
    "        # Timestamp de début\n",
    "        start_time = pd.to_datetime(time_str.strip(\"()\"), format=\"%d/%m/%Y %H:%M\")\n",
    "\n",
    "        # Ajouter à l'event log\n",
    "        event_log.append({\n",
    "            \"case_id\": case_id,\n",
    "            \"activity\": activity,\n",
    "            \"start_timestamp\": start_time\n",
    "        })"
   ]
  },
  {
   "cell_type": "code",
   "execution_count": 13,
   "id": "27c85283-92cd-4da2-8cae-b236d16f7cba",
   "metadata": {},
   "outputs": [
    {
     "data": {
      "text/html": [
       "<div>\n",
       "<style scoped>\n",
       "    .dataframe tbody tr th:only-of-type {\n",
       "        vertical-align: middle;\n",
       "    }\n",
       "\n",
       "    .dataframe tbody tr th {\n",
       "        vertical-align: top;\n",
       "    }\n",
       "\n",
       "    .dataframe thead th {\n",
       "        text-align: right;\n",
       "    }\n",
       "</style>\n",
       "<table border=\"1\" class=\"dataframe\">\n",
       "  <thead>\n",
       "    <tr style=\"text-align: right;\">\n",
       "      <th></th>\n",
       "      <th>case_id</th>\n",
       "      <th>activity</th>\n",
       "      <th>start_timestamp</th>\n",
       "    </tr>\n",
       "  </thead>\n",
       "  <tbody>\n",
       "    <tr>\n",
       "      <th>22</th>\n",
       "      <td>569611027</td>\n",
       "      <td>prise de la température</td>\n",
       "      <td>2023-01-02 00:23:00</td>\n",
       "    </tr>\n",
       "    <tr>\n",
       "      <th>23</th>\n",
       "      <td>569611027</td>\n",
       "      <td>surveillance scope  spo2  2 heures</td>\n",
       "      <td>2023-01-02 00:23:00</td>\n",
       "    </tr>\n",
       "    <tr>\n",
       "      <th>24</th>\n",
       "      <td>569611027</td>\n",
       "      <td>prélèvement sécrétions</td>\n",
       "      <td>2023-01-02 00:23:00</td>\n",
       "    </tr>\n",
       "    <tr>\n",
       "      <th>25</th>\n",
       "      <td>569611027</td>\n",
       "      <td>résultats des tdr</td>\n",
       "      <td>2023-01-02 00:46:00</td>\n",
       "    </tr>\n",
       "    <tr>\n",
       "      <th>26</th>\n",
       "      <td>569611027</td>\n",
       "      <td>dispensation de médicament po</td>\n",
       "      <td>2023-01-02 00:46:00</td>\n",
       "    </tr>\n",
       "    <tr>\n",
       "      <th>27</th>\n",
       "      <td>569611030</td>\n",
       "      <td>désinfection plaie</td>\n",
       "      <td>2023-01-02 00:00:00</td>\n",
       "    </tr>\n",
       "    <tr>\n",
       "      <th>28</th>\n",
       "      <td>569611030</td>\n",
       "      <td>pose xylocaine</td>\n",
       "      <td>2023-01-02 00:00:00</td>\n",
       "    </tr>\n",
       "    <tr>\n",
       "      <th>29</th>\n",
       "      <td>569611030</td>\n",
       "      <td>aide à la suture</td>\n",
       "      <td>2023-01-02 00:43:00</td>\n",
       "    </tr>\n",
       "    <tr>\n",
       "      <th>30</th>\n",
       "      <td>569611030</td>\n",
       "      <td>inhalation de meopa pour soins médicaux</td>\n",
       "      <td>2023-01-02 00:43:00</td>\n",
       "    </tr>\n",
       "    <tr>\n",
       "      <th>31</th>\n",
       "      <td>569611030</td>\n",
       "      <td>prise en charge en contexte traumatique yyyy011</td>\n",
       "      <td>2023-01-02 09:05:00</td>\n",
       "    </tr>\n",
       "  </tbody>\n",
       "</table>\n",
       "</div>"
      ],
      "text/plain": [
       "      case_id                                         activity  \\\n",
       "22  569611027                          prise de la température   \n",
       "23  569611027               surveillance scope  spo2  2 heures   \n",
       "24  569611027                           prélèvement sécrétions   \n",
       "25  569611027                                résultats des tdr   \n",
       "26  569611027                    dispensation de médicament po   \n",
       "27  569611030                               désinfection plaie   \n",
       "28  569611030                                   pose xylocaine   \n",
       "29  569611030                                 aide à la suture   \n",
       "30  569611030          inhalation de meopa pour soins médicaux   \n",
       "31  569611030  prise en charge en contexte traumatique yyyy011   \n",
       "\n",
       "       start_timestamp  \n",
       "22 2023-01-02 00:23:00  \n",
       "23 2023-01-02 00:23:00  \n",
       "24 2023-01-02 00:23:00  \n",
       "25 2023-01-02 00:46:00  \n",
       "26 2023-01-02 00:46:00  \n",
       "27 2023-01-02 00:00:00  \n",
       "28 2023-01-02 00:00:00  \n",
       "29 2023-01-02 00:43:00  \n",
       "30 2023-01-02 00:43:00  \n",
       "31 2023-01-02 09:05:00  "
      ]
     },
     "execution_count": 13,
     "metadata": {},
     "output_type": "execute_result"
    }
   ],
   "source": [
    "# Conversion en DataFrame\n",
    "event_log_df = pd.DataFrame(event_log)\n",
    "\n",
    "# Affichage d’un aperçu\n",
    "event_log_df.sort_values(by=['case_id', 'start_timestamp']).head(10)"
   ]
  },
  {
   "cell_type": "code",
   "execution_count": 33,
   "id": "d4b4bf37-7075-43ba-b9bf-8fd72c006343",
   "metadata": {},
   "outputs": [
    {
     "name": "stdout",
     "output_type": "stream",
     "text": [
      "     case_id                   activity     start_timestamp category\n",
      "0  569611249    prise de la température 2023-01-01 11:03:00    autre\n",
      "1  569611249     mesure ponctuelle spo2 2023-01-01 11:03:00    autre\n",
      "2  569611249  crp capillaire resultat45 2023-01-01 12:13:00    autre\n",
      "3  569611249         pose de patch emla 2023-01-01 12:28:00    autre\n",
      "4  569611259         désinfection plaie 2023-01-01 10:27:00    autre\n"
     ]
    }
   ],
   "source": [
    "from rapidfuzz import process\n",
    "#Construire un dictionnaire des catégories connues\n",
    "#Définir le dictionnaire expert\n",
    "expert_categories = {\n",
    "    \"plaster\": \"bandage\",\n",
    "    \"injection\": \"injection\",\n",
    "    \"inhalation\": \"inhalation\",\n",
    "    \"suture\": \"suture\",\n",
    "    \"surgery\": \"surgery\",\n",
    "    \"bandage\": \"bandage\",\n",
    "    \"cleaning\": \"cleaning\",\n",
    "    \"intubation\": \"intubation\",\n",
    "    \"burns\": \"burns\",\n",
    "    \"catherization\": \"catherization\",\n",
    "    \"drug dispensation\": \"drug dispensation\",\n",
    "    \"surveillance\": \"monitoring\",\n",
    "    \"support\": \"support\"\n",
    "}\n",
    "known_activities = list(expert_categories.keys())\n",
    "\n",
    "def classify_activity(activity):\n",
    "    try:\n",
    "        if not isinstance(activity, str) or activity.strip() == \"\":\n",
    "            return \"inconnu\"\n",
    "        match, score, _ = process.extractOne(activity, known_activities)\n",
    "        if match and score >= 85:\n",
    "            return expert_categories[match]\n",
    "        else:\n",
    "            return \"autre\"\n",
    "    except Exception as e:\n",
    "        return f\"erreur: {e}\"\n",
    "\n",
    "# Appliquer la classification\n",
    "event_log_df['category'] = event_log_df['activity'].apply(classify_activity)\n",
    "\n",
    "# Afficher un aperçu\n",
    "print(event_log_df.head())"
   ]
  },
  {
   "cell_type": "code",
   "execution_count": 30,
   "id": "64cef458-2a3f-49ff-8d9e-fc44c962383e",
   "metadata": {},
   "outputs": [],
   "source": [
    "from rapidfuzz import process"
   ]
  },
  {
   "cell_type": "code",
   "execution_count": null,
   "id": "3d8cce4c-f52b-4748-b1d3-2df58f1a2c50",
   "metadata": {},
   "outputs": [],
   "source": []
  }
 ],
 "metadata": {
  "kernelspec": {
   "display_name": "Python 3 (ipykernel)",
   "language": "python",
   "name": "python3"
  },
  "language_info": {
   "codemirror_mode": {
    "name": "ipython",
    "version": 3
   },
   "file_extension": ".py",
   "mimetype": "text/x-python",
   "name": "python",
   "nbconvert_exporter": "python",
   "pygments_lexer": "ipython3",
   "version": "3.13.3"
  }
 },
 "nbformat": 4,
 "nbformat_minor": 5
}
