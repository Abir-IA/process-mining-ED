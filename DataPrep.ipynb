{
  "cells": [
    {
      "cell_type": "code",
      "execution_count": null,
      "id": "8144fb39-2d4a-4ecf-add5-7a6cbdaa255a",
      "metadata": {
        "id": "8144fb39-2d4a-4ecf-add5-7a6cbdaa255a"
      },
      "outputs": [],
      "source": []
    },
    {
      "cell_type": "code",
      "source": [
        "import pandas as pd\n",
        "import numpy as np\n",
        "import matplotlib.pyplot as plt\n",
        "import re\n",
        "from openpyxl.utils import get_column_letter\n",
        "from openpyxl import Workbook\n",
        "import sqlite3\n",
        "import sqlite3"
      ],
      "metadata": {
        "id": "DDW658SN1vw6"
      },
      "id": "DDW658SN1vw6",
      "execution_count": null,
      "outputs": []
    },
    {
      "cell_type": "code",
      "source": [
        "# Load data from excel, and explore the data\n",
        "\n",
        "#raw_data = pd.read_excel('2023_01_01_ExportRechLibre.xlsx', engine='openpyxl')\n",
        "file_path = '2023_01_01_ExportRechLibre.xlsx'  # Modify this with your actual file path\n",
        "\n",
        "try:\n",
        "    raw_data = pd.read_excel(file_path)\n",
        "    print(raw_data.head())  # Display the first few rows to confirm successful load\n",
        "except PermissionError:\n",
        "    print(\"Permission Error: Unable to access the file. Make sure the file is not open in another program and check the file permissions.\")\n",
        "except Exception as e:\n",
        "    print(f\"An error occurred: {e}\")\n",
        "\n",
        "# Display the first few rows\n",
        "raw_data.head()\n",
        "\n",
        "# Display basic information about the dataset\n",
        "raw_data.info()\n",
        "\n",
        "# Check for missing values\n",
        "raw_data.isnull().sum()\n",
        "\n",
        "# Get the number of columns in the dataset\n",
        "number_of_columns = raw_data.shape[1]\n",
        "# Print the number of columns\n",
        "print(\"The dataset contains\", number_of_columns, \"columns.\")\n",
        "\n",
        "# Get the column names\n",
        "column_names = raw_data.columns\n",
        "\n",
        "# Print the column names\n",
        "print(\"Column Names:\")\n",
        "for col in column_names:\n",
        "    print(col)\n",
        "\n",
        "# Identify and Classify Columns\n",
        "# Inspect column names\n",
        "raw_data.columns"
      ],
      "metadata": {
        "colab": {
          "base_uri": "https://localhost:8080/"
        },
        "id": "ajUhCfMMMdnY",
        "outputId": "5b9f6636-f445-45ec-e21d-0013d06f322a"
      },
      "id": "ajUhCfMMMdnY",
      "execution_count": null,
      "outputs": [
        {
          "output_type": "stream",
          "name": "stdout",
          "text": [
            "   Identifiant passage unique  Identifiant patient    UF   Sexe  Age(mois)  \\\n",
            "0                   569611249            798418724  6800  Homme       43.6   \n",
            "1                   569611259            798399804  6800  Homme       40.8   \n",
            "2                   569611271            798399866  6800  Homme       90.6   \n",
            "3                   569611278            798405940  6800  Homme        2.0   \n",
            "4                   569611033            798399772  6800  Femme       68.3   \n",
            "\n",
            "          Date entrée         Date sortie    Médecin référent    Secteur  \\\n",
            "0 2023-01-01 10:44:00 2023-01-01 12:27:00   Anne Cecile CHAUX   Médecine   \n",
            "1 2023-01-01 10:15:00 2023-01-01 11:18:00   Virginie LEVEQUES  Chirurgie   \n",
            "2 2023-01-01 09:53:00 2023-01-01 11:04:00   Virginie LEVEQUES  Chirurgie   \n",
            "3 2023-01-01 09:31:00 2023-01-01 11:05:00   Anne Cecile CHAUX   Médecine   \n",
            "4 2023-01-01 23:33:00 2023-01-02 08:44:00  Charlotte THUILLER   Médecine   \n",
            "\n",
            "   Durée séjour(h)  ... LstGrippe NbVRS LstVRS NbCovid LstCovid  TDR  \\\n",
            "0             1.73  ...       NaN     0    NaN       0      NaN  NaN   \n",
            "1             1.06  ...       NaN     0    NaN       0      NaN  NaN   \n",
            "2             1.20  ...       NaN     0    NaN       0      NaN  NaN   \n",
            "3             1.57  ...       NaN     0    NaN       0      NaN  NaN   \n",
            "4             9.19  ...       NaN     0    NaN       0      NaN  NaN   \n",
            "\n",
            "   Resultat Grippe  Resultat Covid  Resultat VRS  Resultat Streptocoque  \n",
            "0              NaN             NaN           NaN                    NaN  \n",
            "1              NaN             NaN           NaN                    NaN  \n",
            "2              NaN             NaN           NaN                    NaN  \n",
            "3              NaN             NaN           NaN                    NaN  \n",
            "4              NaN             NaN           NaN                    NaN  \n",
            "\n",
            "[5 rows x 104 columns]\n",
            "<class 'pandas.core.frame.DataFrame'>\n",
            "RangeIndex: 86 entries, 0 to 85\n",
            "Columns: 104 entries, Identifiant passage unique to Resultat Streptocoque\n",
            "dtypes: bool(10), datetime64[ns](8), float64(21), int64(24), object(41)\n",
            "memory usage: 64.1+ KB\n",
            "The dataset contains 104 columns.\n",
            "Column Names:\n",
            "Identifiant passage unique\n",
            "Identifiant patient\n",
            "UF\n",
            "Sexe\n",
            "Age(mois)\n",
            "Date entrée\n",
            "Date sortie\n",
            "Médecin référent\n",
            "Secteur\n",
            "Durée séjour(h)\n",
            "Motif recours\n",
            "Détail circonstances\n",
            "Quicklook\n",
            "Sortie rapide\n",
            "Type sortie\n",
            "Avis Ophtalmo\n",
            "Avis ORL\n",
            "Avis Stomato\n",
            "Avis Pedo Psy\n",
            "Avis Psy\n",
            "Demande avis Ophtalmo\n",
            "Réponse avis Ophtalmo\n",
            "Durée avis Ophtalmo (h)\n",
            "Demande avis ORL\n",
            "Réponse avis ORL\n",
            "Durée avis ORL (h)\n",
            "Demande avis Stomato\n",
            "Réponse avis Stomato\n",
            "Durée avis Stomato (h)\n",
            "Demande avis Pedo Psy\n",
            "Réponse avis Pedo Psy\n",
            "Durée avis Pedo Psy (h)\n",
            "Demande avis Psy\n",
            "Réponse avis Psy\n",
            "Durée avis Psy (h)\n",
            "Délai triage (h)\n",
            "Délai Médical (h)\n",
            "Délai Paramédical (h) nurse\n",
            "Date Triage\n",
            "1ère PEC Médecin\n",
            "1ère PEC Interne\n",
            "1ère PEC Externe\n",
            "1ère PEC Paramédicale\n",
            "1ère PEC IDE\n",
            "1ère PEC ASO\n",
            "Histo affectations\n",
            "Triage IOA\n",
            "Histo gravités\n",
            "UHCD\n",
            "Hospitalisé\n",
            "Mutation interne\n",
            "Mutation externe\n",
            "Sortie externe\n",
            "Date décès\n",
            "CCMU\n",
            "GEMSA\n",
            "CIM10 Diag Principal\n",
            "CIM10 Diag Associés\n",
            "Adressé par\n",
            "Transporté par\n",
            "Secteur.1\n",
            "Code postal\n",
            "Ville\n",
            "Localisation(s)\n",
            "Multi-secteur\n",
            "Secteur(s)\n",
            "Nb Actes\n",
            "Actes\n",
            "Dates Observations\n",
            "HasImagerie\n",
            "HasBiologie\n",
            "NbRadioPulmo\n",
            "LstRadiosPulmo\n",
            "NbRadioASP\n",
            "LstRadiosASP\n",
            "NbEcho\n",
            "LstEchos\n",
            "NbIrm\n",
            "LstIrm\n",
            "NbNfp\n",
            "LstNfp\n",
            "NbCrp\n",
            "LstCrp\n",
            "NbCrpCapillaire\n",
            "LstCrpCapillaire\n",
            "NbPct\n",
            "LstPct\n",
            "NbIono\n",
            "LstIono\n",
            "NbGazo\n",
            "LstGazo\n",
            "NbCoag\n",
            "LstCoag\n",
            "NbGrippe\n",
            "LstGrippe\n",
            "NbVRS\n",
            "LstVRS\n",
            "NbCovid\n",
            "LstCovid\n",
            "TDR\n",
            "Resultat Grippe\n",
            "Resultat Covid\n",
            "Resultat VRS\n",
            "Resultat Streptocoque\n"
          ]
        },
        {
          "output_type": "execute_result",
          "data": {
            "text/plain": [
              "Index(['Identifiant passage unique', 'Identifiant patient', 'UF', 'Sexe',\n",
              "       'Age(mois)', 'Date entrée', 'Date sortie', 'Médecin référent',\n",
              "       'Secteur', 'Durée séjour(h)',\n",
              "       ...\n",
              "       'LstGrippe', 'NbVRS', 'LstVRS', 'NbCovid', 'LstCovid', 'TDR',\n",
              "       'Resultat Grippe', 'Resultat Covid', 'Resultat VRS',\n",
              "       'Resultat Streptocoque'],\n",
              "      dtype='object', length=104)"
            ]
          },
          "metadata": {},
          "execution_count": 3
        }
      ]
    },
    {
      "cell_type": "code",
      "source": [
        "# Create lists to classify columns\n",
        "identifiers = ['Identifiant passage unique', 'Identifiant patient']\n",
        "timestamps = ['Date entrée', 'Date sortie']\n",
        "attributes = ['Sexe', 'Age(mois)', 'Secteur', 'Médecin référent']\n",
        "measures = ['Durée séjour(h)']\n",
        "diagnostic_columns = [col for col in raw_data.columns if 'Resultat' in col or 'Lst' in col]\n",
        "\n",
        "# Print categorized columns\n",
        "print(\"Identifiers:\", identifiers)\n",
        "print(\"Timestamps:\", timestamps)\n",
        "print(\"Attributes:\", attributes)\n",
        "print(\"Measures:\", measures)\n",
        "print(\"Diagnostic Columns:\", diagnostic_columns)"
      ],
      "metadata": {
        "colab": {
          "base_uri": "https://localhost:8080/"
        },
        "id": "6XKFr6xbNISM",
        "outputId": "4b38d9be-1aa5-4fc1-c2ee-0398e01fe48e"
      },
      "id": "6XKFr6xbNISM",
      "execution_count": null,
      "outputs": [
        {
          "output_type": "stream",
          "name": "stdout",
          "text": [
            "Identifiers: ['Identifiant passage unique', 'Identifiant patient']\n",
            "Timestamps: ['Date entrée', 'Date sortie']\n",
            "Attributes: ['Sexe', 'Age(mois)', 'Secteur', 'Médecin référent']\n",
            "Measures: ['Durée séjour(h)']\n",
            "Diagnostic Columns: ['LstRadiosPulmo', 'LstRadiosASP', 'LstEchos', 'LstIrm', 'LstNfp', 'LstCrp', 'LstCrpCapillaire', 'LstPct', 'LstIono', 'LstGazo', 'LstCoag', 'LstGrippe', 'LstVRS', 'LstCovid', 'Resultat Grippe', 'Resultat Covid', 'Resultat VRS', 'Resultat Streptocoque']\n"
          ]
        }
      ]
    },
    {
      "cell_type": "code",
      "source": [
        "# Data Cleaning\n",
        "# Handle missing values\n",
        "data_cleaned = raw_data.fillna({'Sexe': 'Unknown', 'Secteur': 'Unknown'})\n",
        "\n",
        "# Standardize timestamp formats\n",
        "data_cleaned['Date entrée'] = pd.to_datetime(data_cleaned['Date entrée'])\n",
        "data_cleaned['Date sortie'] = pd.to_datetime(data_cleaned['Date sortie'])\n",
        "\n",
        "# Check for duplicates\n",
        "duplicates = data_cleaned[data_cleaned.duplicated(subset='Identifiant passage unique')]\n",
        "print(\"Number of duplicates:\", len(duplicates))\n",
        "\n",
        "# Remove duplicates if necessary\n",
        "data_cleaned = data_cleaned.drop_duplicates(subset='Identifiant passage unique')"
      ],
      "metadata": {
        "colab": {
          "base_uri": "https://localhost:8080/"
        },
        "id": "vm_h2ej7NOD8",
        "outputId": "b73a5ef4-83aa-4f3e-bfba-0e0bea8d6fe4"
      },
      "id": "vm_h2ej7NOD8",
      "execution_count": null,
      "outputs": [
        {
          "output_type": "stream",
          "name": "stdout",
          "text": [
            "Number of duplicates: 0\n"
          ]
        }
      ]
    },
    {
      "cell_type": "code",
      "source": [
        "# Function to process each row and extract events\n",
        "def process_events(row):\n",
        "    events = str(row['Histo affectations']).split('|')\n",
        "    patient_id = row['Identifiant patient']\n",
        "    entries = []\n",
        "    for event in events:\n",
        "        match = re.match(r'^(.+) \\((.*?)\\) du (\\d{2}/\\d{2}/\\d{4} \\d{2}:\\d{2}:\\d{2})( au (\\d{2}/\\d{2}/\\d{4} \\d{2}:\\d{2}:\\d{2}))?$', event.strip())\n",
        "        if match:\n",
        "            entry = {\n",
        "                'Identifiant patient': patient_id,\n",
        "                'Personnel': match.group(1),\n",
        "                'Role': match.group(2),\n",
        "                'Start Time': match.group(3),\n",
        "                'End Time': match.group(5) if match.group(5) else None\n",
        "            }\n",
        "            entries.append(entry)\n",
        "        else:\n",
        "            print(\"No match found for event:\", event)\n",
        "    return entries\n",
        "\n",
        "# Load the data\n",
        "raw_data = pd.read_excel('2023_01_01_ExportRechLibre.xlsx')  # Make sure to adjust the path to your input file\n",
        "\n",
        "# Apply the function to each row and create a list of lists\n",
        "processed_data = raw_data.apply(process_events, axis=1)\n",
        "\n",
        "# Flatten the list of lists manually\n",
        "flat_list = [item for sublist in processed_data for item in sublist]\n",
        "\n",
        "# Create DataFrame from the flat list\n",
        "event_data = pd.DataFrame(flat_list)\n",
        "\n",
        "# Sort by 'Identifiant patient' and 'Start Time' for better grouping visually\n",
        "event_data.sort_values(by=['Identifiant patient', 'Start Time'], inplace=True)\n",
        "\n",
        "# Save to Excel with enhanced formatting\n",
        "output_file_path = 'enhanced_output.xlsx'\n",
        "with pd.ExcelWriter(output_file_path, engine='openpyxl', mode='w') as writer:\n",
        "    event_data.to_excel(writer, index=False, sheet_name='Detailed View')\n",
        "\n",
        "    # Get the workbook and the worksheet for further manipulation\n",
        "    workbook = writer.book\n",
        "    worksheet = writer.sheets['Detailed View']\n",
        "\n",
        "    # Set the column widths and format headers\n",
        "    for col_num, col in enumerate(event_data.columns):\n",
        "        max_len = max(event_data[col].astype(str).apply(len).max(), len(col) + 2)\n",
        "        worksheet.column_dimensions[get_column_letter(col_num + 1)].width = max_len\n",
        "\n",
        "print(f\"Data has been successfully exported to {output_file_path}\")"
      ],
      "metadata": {
        "colab": {
          "base_uri": "https://localhost:8080/"
        },
        "id": "pWeXvBYyNbuD",
        "outputId": "ebc79415-bee6-4509-8a1f-8bdc21cdf953"
      },
      "id": "pWeXvBYyNbuD",
      "execution_count": null,
      "outputs": [
        {
          "output_type": "stream",
          "name": "stdout",
          "text": [
            "Data has been successfully exported to enhanced_output.xlsx\n"
          ]
        }
      ]
    },
    {
      "cell_type": "markdown",
      "source": [
        "# Nouvelle section"
      ],
      "metadata": {
        "id": "ueV2X6z_UnGR"
      },
      "id": "ueV2X6z_UnGR"
    }
  ],
  "metadata": {
    "kernelspec": {
      "display_name": "Python 3 (ipykernel)",
      "language": "python",
      "name": "python3"
    },
    "language_info": {
      "codemirror_mode": {
        "name": "ipython",
        "version": 3
      },
      "file_extension": ".py",
      "mimetype": "text/x-python",
      "name": "python",
      "nbconvert_exporter": "python",
      "pygments_lexer": "ipython3",
      "version": "3.12.7"
    },
    "colab": {
      "provenance": []
    }
  },
  "nbformat": 4,
  "nbformat_minor": 5
}