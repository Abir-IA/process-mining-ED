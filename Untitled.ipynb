{
 "cells": [
  {
   "cell_type": "code",
   "execution_count": null,
   "id": "fb4cb9aa-55f7-4d15-b908-f82118de24da",
   "metadata": {},
   "outputs": [],
   "source": [
    "import pandas as pd\n",
    "from sentence_transformers import SentenceTransformer\n",
    "from sklearn.metrics.pairwise import cosine_similarity\n",
    "import numpy as np\n",
    "\n",
    "# 1. Charger le modèle d'embeddings sémantiques\n",
    "model = SentenceTransformer('all-MiniLM-L6-v2')\n",
    "\n",
    "# 2. Charger le fichier de catégories avec exemples\n",
    "ref_df = pd.read_csv(\"../data/categories.csv\")  # adapte le chemin si besoin\n",
    "ref_df.dropna(inplace=True)\n",
    "\n",
    "# 3. Encoder chaque exemple dans un vecteur\n",
    "ref_df['embedding'] = ref_df['example'].apply(lambda x: model.encode(x))\n",
    "\n",
    "# 4. Moyenne des vecteurs par catégorie\n",
    "category_embeddings = (\n",
    "    ref_df.groupby('category')['embedding']\n",
    "    .apply(lambda x: np.mean(x.tolist(), axis=0))\n",
    "    .to_dict()\n",
    ")\n",
    "\n",
    "# 5. Encoder chaque activité du log\n",
    "event_log_df['activity_vector'] = event_log_df['activity'].apply(lambda x: model.encode(str(x)))\n",
    "\n",
    "# 6. Fonction de classification par similarité cosinus\n",
    "def classify_activity(vector):\n",
    "    best_cat = None\n",
    "    best_score = -1\n",
    "    for category, ref_vector in category_embeddings.items():\n",
    "        score = cosine_similarity([vector], [ref_vector])[0][0]\n",
    "        if score > best_score:\n",
    "            best_score = score\n",
    "            best_cat = category\n",
    "    return best_cat, best_score\n",
    "\n",
    "# 7. Appliquer à toutes les activités\n",
    "results = event_log_df['activity_vector'].apply(classify_activity)\n",
    "event_log_df['predicted_category'] = results.apply(lambda x: x[0])\n",
    "event_log_df['similarity_score'] = results.apply(lambda x: x[1])\n",
    "\n",
    "# 8. Nettoyage : on peut supprimer les vecteurs pour alléger\n",
    "event_log_df.drop(columns=['activity_vector'], inplace=True)\n",
    "\n",
    "# 9. Aperçu\n",
    "event_log_df[['activity', 'predicted_category', 'similarity_score']].head(10)"
   ]
  }
 ],
 "metadata": {
  "kernelspec": {
   "display_name": "Python 3 (ipykernel)",
   "language": "python",
   "name": "python3"
  },
  "language_info": {
   "codemirror_mode": {
    "name": "ipython",
    "version": 3
   },
   "file_extension": ".py",
   "mimetype": "text/x-python",
   "name": "python",
   "nbconvert_exporter": "python",
   "pygments_lexer": "ipython3",
   "version": "3.13.3"
  }
 },
 "nbformat": 4,
 "nbformat_minor": 5
}
